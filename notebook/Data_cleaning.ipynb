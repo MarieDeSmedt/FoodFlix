{
 "cells": [
  {
   "cell_type": "markdown",
   "metadata": {},
   "source": [
    "# DATA CLEANING"
   ]
  },
  {
   "cell_type": "markdown",
   "metadata": {},
   "source": [
    "## 1. Importation"
   ]
  },
  {
   "cell_type": "code",
   "execution_count": 49,
   "metadata": {},
   "outputs": [],
   "source": [
    "import matplotlib as mpl\n",
    "import matplotlib.pyplot as plt\n",
    "import seaborn as sns\n"
   ]
  },
  {
   "cell_type": "code",
   "execution_count": 30,
   "metadata": {},
   "outputs": [
    {
     "name": "stdout",
     "output_type": "stream",
     "text": [
      "                                 product_name countries  energy_100g  \\\n",
      "311648                      Usn Crunch Peanut    France       1690.0   \n",
      "243499            Nougat tendre de Montélimar    France       1876.0   \n",
      "273178  Moutarde saveur truffe au poivre noir    France        824.0   \n",
      "188230                                  Datte    France       1347.0   \n",
      "246747                                    NaN    France          NaN   \n",
      "...                                       ...       ...          ...   \n",
      "256255                    Merguez de volaille    France        901.0   \n",
      "223141                      Edulcorant stevia    France        377.0   \n",
      "198219                   Macédoine de légumes    France        161.0   \n",
      "206985       Cornichons extra-fins, croquants    France          NaN   \n",
      "212603       Le Lait de Chez Nous demi-écrémé    France        193.0   \n",
      "\n",
      "        sugars_100g  fiber_100g  proteins_100g  sodium_100g  \\\n",
      "311648         31.0        3.20           24.0     0.393701   \n",
      "243499         58.5        3.60            8.2     0.011811   \n",
      "273178          5.3        1.20            9.0     2.125984   \n",
      "188230         66.5        6.71            1.8     0.003937   \n",
      "246747          NaN         NaN            NaN          NaN   \n",
      "...             ...         ...            ...          ...   \n",
      "256255          1.0         NaN           15.2     0.590551   \n",
      "223141          0.0        0.50            2.0    15.748031   \n",
      "198219          0.8        3.70            2.2     0.310000   \n",
      "206985          NaN         NaN            NaN          NaN   \n",
      "212603          4.8         NaN            3.2     0.051181   \n",
      "\n",
      "        saturated-fat_100g  nutrition-score-fr_100g nutrition_grade_fr  \n",
      "311648                 4.1                     15.0                  d  \n",
      "243499                 1.3                     11.0                  d  \n",
      "273178                 1.0                     12.0                  d  \n",
      "188230                 0.0                      9.0                  c  \n",
      "246747                 NaN                      NaN                NaN  \n",
      "...                    ...                      ...                ...  \n",
      "256255                 0.4                      3.0                  c  \n",
      "223141                 0.0                     11.0                  d  \n",
      "198219                 0.1                     -8.0                  a  \n",
      "206985                 NaN                      NaN                NaN  \n",
      "212603                 1.0                      0.0                  b  \n",
      "\n",
      "[30105 rows x 10 columns]\n"
     ]
    }
   ],
   "source": [
    "import mysql.connector\n",
    "\n",
    "import sys\n",
    "sys.path.insert(0,\"/home/apprenant/PycharmProjects/FoodFlix\")\n",
    "\n",
    "from src.d02_intermediate.first_cleaning import df_nutri_score_new as df\n",
    "from src.d01_data.load_data import db_connect\n",
    "import src.d00_utils.mysql_utils as ut\n",
    "\n",
    "#db_connect = ut.connect_to_mysql()\n",
    "#print(df)"
   ]
  },
  {
   "cell_type": "markdown",
   "metadata": {},
   "source": [
    "## 2. Les types de données"
   ]
  },
  {
   "cell_type": "markdown",
   "metadata": {},
   "source": [
    "je vérifie que les types de données sont cohérents avec les valeurs attendues.\n",
    "aussi je vérifie la cohérence des noms de colonnes."
   ]
  },
  {
   "cell_type": "code",
   "execution_count": 31,
   "metadata": {},
   "outputs": [
    {
     "name": "stdout",
     "output_type": "stream",
     "text": [
      "product_name                object\n",
      "countries                   object\n",
      "energy_100g                float64\n",
      "sugars_100g                float64\n",
      "fiber_100g                 float64\n",
      "proteins_100g              float64\n",
      "sodium_100g                float64\n",
      "saturated-fat_100g         float64\n",
      "nutrition-score-fr_100g    float64\n",
      "nutrition_grade_fr          object\n",
      "dtype: object\n"
     ]
    }
   ],
   "source": [
    "print(df.dtypes)"
   ]
  },
  {
   "cell_type": "markdown",
   "metadata": {},
   "source": [
    "tout est cohérent il n'ya pas d'action à mener sur ce suejt."
   ]
  },
  {
   "cell_type": "markdown",
   "metadata": {},
   "source": [
    "## 3.Les données manquantes"
   ]
  },
  {
   "cell_type": "markdown",
   "metadata": {},
   "source": [
    "je chercher à savoir si mes données présentent beaucoup de valeurs nulles.\n",
    "j'affiche par ligne le nombre de colonnes non nulles."
   ]
  },
  {
   "cell_type": "code",
   "execution_count": 32,
   "metadata": {},
   "outputs": [
    {
     "name": "stdout",
     "output_type": "stream",
     "text": [
      "<class 'pandas.core.frame.DataFrame'>\n",
      "Int64Index: 30105 entries, 311648 to 212603\n",
      "Data columns (total 10 columns):\n",
      " #   Column                   Non-Null Count  Dtype  \n",
      "---  ------                   --------------  -----  \n",
      " 0   product_name             29782 non-null  object \n",
      " 1   countries                30105 non-null  object \n",
      " 2   energy_100g              25599 non-null  float64\n",
      " 3   sugars_100g              25121 non-null  float64\n",
      " 4   fiber_100g               17051 non-null  float64\n",
      " 5   proteins_100g            25531 non-null  float64\n",
      " 6   sodium_100g              25106 non-null  float64\n",
      " 7   saturated-fat_100g       25086 non-null  float64\n",
      " 8   nutrition-score-fr_100g  24697 non-null  float64\n",
      " 9   nutrition_grade_fr       24697 non-null  object \n",
      "dtypes: float64(7), object(3)\n",
      "memory usage: 2.5+ MB\n",
      "None\n"
     ]
    }
   ],
   "source": [
    "print(df.info())"
   ]
  },
  {
   "cell_type": "markdown",
   "metadata": {},
   "source": [
    "Sans nom de produit la donnée est inutilisable je peux donc supprimer les lignes qui ont un \"produtc_name\" sans valeur.\n",
    "Nous pouvons nous permettre de garder les autres lignes meme si elles ont des valeurs vides, il faudra juste reflechir à comment  les remplir."
   ]
  },
  {
   "cell_type": "code",
   "execution_count": 33,
   "metadata": {},
   "outputs": [
    {
     "name": "stdout",
     "output_type": "stream",
     "text": [
      "(29782, 10)\n"
     ]
    }
   ],
   "source": [
    "# si il n'y a pas de nom de produits je supprime les lignes\n",
    "df = df[df['product_name'].notna()]\n",
    "print(df.shape)"
   ]
  },
  {
   "cell_type": "markdown",
   "metadata": {},
   "source": [
    "comme il s'agit ici de calculer un score, je remplace toutes les valeurs Nan par zéro."
   ]
  },
  {
   "cell_type": "code",
   "execution_count": 34,
   "metadata": {},
   "outputs": [
    {
     "data": {
      "text/html": [
       "<div>\n",
       "<style scoped>\n",
       "    .dataframe tbody tr th:only-of-type {\n",
       "        vertical-align: middle;\n",
       "    }\n",
       "\n",
       "    .dataframe tbody tr th {\n",
       "        vertical-align: top;\n",
       "    }\n",
       "\n",
       "    .dataframe thead th {\n",
       "        text-align: right;\n",
       "    }\n",
       "</style>\n",
       "<table border=\"1\" class=\"dataframe\">\n",
       "  <thead>\n",
       "    <tr style=\"text-align: right;\">\n",
       "      <th></th>\n",
       "      <th>product_name</th>\n",
       "      <th>countries</th>\n",
       "      <th>energy_100g</th>\n",
       "      <th>sugars_100g</th>\n",
       "      <th>fiber_100g</th>\n",
       "      <th>proteins_100g</th>\n",
       "      <th>sodium_100g</th>\n",
       "      <th>saturated-fat_100g</th>\n",
       "      <th>nutrition-score-fr_100g</th>\n",
       "      <th>nutrition_grade_fr</th>\n",
       "    </tr>\n",
       "  </thead>\n",
       "  <tbody>\n",
       "    <tr>\n",
       "      <th>256255</th>\n",
       "      <td>Merguez de volaille</td>\n",
       "      <td>France</td>\n",
       "      <td>901.0</td>\n",
       "      <td>1.0</td>\n",
       "      <td>NaN</td>\n",
       "      <td>15.2</td>\n",
       "      <td>0.590551</td>\n",
       "      <td>0.4</td>\n",
       "      <td>3.0</td>\n",
       "      <td>c</td>\n",
       "    </tr>\n",
       "    <tr>\n",
       "      <th>223141</th>\n",
       "      <td>Edulcorant stevia</td>\n",
       "      <td>France</td>\n",
       "      <td>377.0</td>\n",
       "      <td>0.0</td>\n",
       "      <td>0.5</td>\n",
       "      <td>2.0</td>\n",
       "      <td>15.748031</td>\n",
       "      <td>0.0</td>\n",
       "      <td>11.0</td>\n",
       "      <td>d</td>\n",
       "    </tr>\n",
       "    <tr>\n",
       "      <th>198219</th>\n",
       "      <td>Macédoine de légumes</td>\n",
       "      <td>France</td>\n",
       "      <td>161.0</td>\n",
       "      <td>0.8</td>\n",
       "      <td>3.7</td>\n",
       "      <td>2.2</td>\n",
       "      <td>0.310000</td>\n",
       "      <td>0.1</td>\n",
       "      <td>-8.0</td>\n",
       "      <td>a</td>\n",
       "    </tr>\n",
       "    <tr>\n",
       "      <th>206985</th>\n",
       "      <td>Cornichons extra-fins, croquants</td>\n",
       "      <td>France</td>\n",
       "      <td>NaN</td>\n",
       "      <td>NaN</td>\n",
       "      <td>NaN</td>\n",
       "      <td>NaN</td>\n",
       "      <td>NaN</td>\n",
       "      <td>NaN</td>\n",
       "      <td>NaN</td>\n",
       "      <td>NaN</td>\n",
       "    </tr>\n",
       "    <tr>\n",
       "      <th>212603</th>\n",
       "      <td>Le Lait de Chez Nous demi-écrémé</td>\n",
       "      <td>France</td>\n",
       "      <td>193.0</td>\n",
       "      <td>4.8</td>\n",
       "      <td>NaN</td>\n",
       "      <td>3.2</td>\n",
       "      <td>0.051181</td>\n",
       "      <td>1.0</td>\n",
       "      <td>0.0</td>\n",
       "      <td>b</td>\n",
       "    </tr>\n",
       "  </tbody>\n",
       "</table>\n",
       "</div>"
      ],
      "text/plain": [
       "                            product_name countries  energy_100g  sugars_100g  \\\n",
       "256255               Merguez de volaille    France        901.0          1.0   \n",
       "223141                 Edulcorant stevia    France        377.0          0.0   \n",
       "198219              Macédoine de légumes    France        161.0          0.8   \n",
       "206985  Cornichons extra-fins, croquants    France          NaN          NaN   \n",
       "212603  Le Lait de Chez Nous demi-écrémé    France        193.0          4.8   \n",
       "\n",
       "        fiber_100g  proteins_100g  sodium_100g  saturated-fat_100g  \\\n",
       "256255         NaN           15.2     0.590551                 0.4   \n",
       "223141         0.5            2.0    15.748031                 0.0   \n",
       "198219         3.7            2.2     0.310000                 0.1   \n",
       "206985         NaN            NaN          NaN                 NaN   \n",
       "212603         NaN            3.2     0.051181                 1.0   \n",
       "\n",
       "        nutrition-score-fr_100g nutrition_grade_fr  \n",
       "256255                      3.0                  c  \n",
       "223141                     11.0                  d  \n",
       "198219                     -8.0                  a  \n",
       "206985                      NaN                NaN  \n",
       "212603                      0.0                  b  "
      ]
     },
     "execution_count": 34,
     "metadata": {},
     "output_type": "execute_result"
    }
   ],
   "source": [
    "df.tail()"
   ]
  },
  {
   "cell_type": "code",
   "execution_count": 35,
   "metadata": {},
   "outputs": [],
   "source": [
    "df = df.fillna(0)"
   ]
  },
  {
   "cell_type": "code",
   "execution_count": 36,
   "metadata": {},
   "outputs": [
    {
     "data": {
      "text/html": [
       "<div>\n",
       "<style scoped>\n",
       "    .dataframe tbody tr th:only-of-type {\n",
       "        vertical-align: middle;\n",
       "    }\n",
       "\n",
       "    .dataframe tbody tr th {\n",
       "        vertical-align: top;\n",
       "    }\n",
       "\n",
       "    .dataframe thead th {\n",
       "        text-align: right;\n",
       "    }\n",
       "</style>\n",
       "<table border=\"1\" class=\"dataframe\">\n",
       "  <thead>\n",
       "    <tr style=\"text-align: right;\">\n",
       "      <th></th>\n",
       "      <th>product_name</th>\n",
       "      <th>countries</th>\n",
       "      <th>energy_100g</th>\n",
       "      <th>sugars_100g</th>\n",
       "      <th>fiber_100g</th>\n",
       "      <th>proteins_100g</th>\n",
       "      <th>sodium_100g</th>\n",
       "      <th>saturated-fat_100g</th>\n",
       "      <th>nutrition-score-fr_100g</th>\n",
       "      <th>nutrition_grade_fr</th>\n",
       "    </tr>\n",
       "  </thead>\n",
       "  <tbody>\n",
       "    <tr>\n",
       "      <th>256255</th>\n",
       "      <td>Merguez de volaille</td>\n",
       "      <td>France</td>\n",
       "      <td>901.0</td>\n",
       "      <td>1.0</td>\n",
       "      <td>0.0</td>\n",
       "      <td>15.2</td>\n",
       "      <td>0.590551</td>\n",
       "      <td>0.4</td>\n",
       "      <td>3.0</td>\n",
       "      <td>c</td>\n",
       "    </tr>\n",
       "    <tr>\n",
       "      <th>223141</th>\n",
       "      <td>Edulcorant stevia</td>\n",
       "      <td>France</td>\n",
       "      <td>377.0</td>\n",
       "      <td>0.0</td>\n",
       "      <td>0.5</td>\n",
       "      <td>2.0</td>\n",
       "      <td>15.748031</td>\n",
       "      <td>0.0</td>\n",
       "      <td>11.0</td>\n",
       "      <td>d</td>\n",
       "    </tr>\n",
       "    <tr>\n",
       "      <th>198219</th>\n",
       "      <td>Macédoine de légumes</td>\n",
       "      <td>France</td>\n",
       "      <td>161.0</td>\n",
       "      <td>0.8</td>\n",
       "      <td>3.7</td>\n",
       "      <td>2.2</td>\n",
       "      <td>0.310000</td>\n",
       "      <td>0.1</td>\n",
       "      <td>-8.0</td>\n",
       "      <td>a</td>\n",
       "    </tr>\n",
       "    <tr>\n",
       "      <th>206985</th>\n",
       "      <td>Cornichons extra-fins, croquants</td>\n",
       "      <td>France</td>\n",
       "      <td>0.0</td>\n",
       "      <td>0.0</td>\n",
       "      <td>0.0</td>\n",
       "      <td>0.0</td>\n",
       "      <td>0.000000</td>\n",
       "      <td>0.0</td>\n",
       "      <td>0.0</td>\n",
       "      <td>0</td>\n",
       "    </tr>\n",
       "    <tr>\n",
       "      <th>212603</th>\n",
       "      <td>Le Lait de Chez Nous demi-écrémé</td>\n",
       "      <td>France</td>\n",
       "      <td>193.0</td>\n",
       "      <td>4.8</td>\n",
       "      <td>0.0</td>\n",
       "      <td>3.2</td>\n",
       "      <td>0.051181</td>\n",
       "      <td>1.0</td>\n",
       "      <td>0.0</td>\n",
       "      <td>b</td>\n",
       "    </tr>\n",
       "  </tbody>\n",
       "</table>\n",
       "</div>"
      ],
      "text/plain": [
       "                            product_name countries  energy_100g  sugars_100g  \\\n",
       "256255               Merguez de volaille    France        901.0          1.0   \n",
       "223141                 Edulcorant stevia    France        377.0          0.0   \n",
       "198219              Macédoine de légumes    France        161.0          0.8   \n",
       "206985  Cornichons extra-fins, croquants    France          0.0          0.0   \n",
       "212603  Le Lait de Chez Nous demi-écrémé    France        193.0          4.8   \n",
       "\n",
       "        fiber_100g  proteins_100g  sodium_100g  saturated-fat_100g  \\\n",
       "256255         0.0           15.2     0.590551                 0.4   \n",
       "223141         0.5            2.0    15.748031                 0.0   \n",
       "198219         3.7            2.2     0.310000                 0.1   \n",
       "206985         0.0            0.0     0.000000                 0.0   \n",
       "212603         0.0            3.2     0.051181                 1.0   \n",
       "\n",
       "        nutrition-score-fr_100g nutrition_grade_fr  \n",
       "256255                      3.0                  c  \n",
       "223141                     11.0                  d  \n",
       "198219                     -8.0                  a  \n",
       "206985                      0.0                  0  \n",
       "212603                      0.0                  b  "
      ]
     },
     "execution_count": 36,
     "metadata": {},
     "output_type": "execute_result"
    }
   ],
   "source": [
    "df.tail()"
   ]
  },
  {
   "cell_type": "markdown",
   "metadata": {},
   "source": [
    "on constate que les Nan ont bien été modifiés."
   ]
  },
  {
   "cell_type": "markdown",
   "metadata": {},
   "source": [
    "### 3.1 Les lignes sans informations"
   ]
  },
  {
   "cell_type": "markdown",
   "metadata": {},
   "source": [
    "TODO: faire la somme des valeurs pour chaque ligne si celle si est a 0 supprimer la ligne"
   ]
  },
  {
   "cell_type": "markdown",
   "metadata": {},
   "source": [
    "## 4. Les doublons"
   ]
  },
  {
   "cell_type": "markdown",
   "metadata": {},
   "source": [
    "Le choix des colonnes a garder s'est fait de manière empirique, il n'y peut donc pas y avoir de doublons.\n",
    "Par contre je vérifie qu'il n'existe pas 2 lignes identiques sinon j'en supprime une des deux."
   ]
  },
  {
   "cell_type": "code",
   "execution_count": 37,
   "metadata": {},
   "outputs": [],
   "source": [
    "#print(df.info())"
   ]
  },
  {
   "cell_type": "code",
   "execution_count": 38,
   "metadata": {},
   "outputs": [
    {
     "name": "stdout",
     "output_type": "stream",
     "text": [
      "                       product_name countries  energy_100g  sugars_100g  \\\n",
      "246815                     Thé vert    France          0.0          0.0   \n",
      "182158                      Houmous    France       1527.0          0.3   \n",
      "273125              Fromage de tête    France          0.0          0.0   \n",
      "217680  Camembert d'Isigny (22% MG)    France       1179.5          0.5   \n",
      "247366      Légumes pour Pot au feu    France          0.0          0.0   \n",
      "...                             ...       ...          ...          ...   \n",
      "345236                   Café moulu    France          0.0          0.0   \n",
      "260672            Rosé Pamplemousse    France          0.0          0.0   \n",
      "258352         Couscous grain moyen    France       1506.0          2.0   \n",
      "304424              Blanc de poulet    France        357.0          2.5   \n",
      "312260               Haricots verts    France          0.0          0.0   \n",
      "\n",
      "        fiber_100g  proteins_100g  sodium_100g  saturated-fat_100g  \\\n",
      "246815         0.0            0.0     0.000000                 0.0   \n",
      "182158         7.9            7.8     0.444882                 3.0   \n",
      "273125         0.0            0.0     0.000000                 0.0   \n",
      "217680         0.0           21.0     0.669291                16.4   \n",
      "247366         0.0            0.0     0.000000                 0.0   \n",
      "...            ...            ...          ...                 ...   \n",
      "345236         0.0            0.0     0.000000                 0.0   \n",
      "260672         0.0            0.0     0.000000                 0.0   \n",
      "258352         3.0           12.0     0.000000                 0.3   \n",
      "304424         1.5           17.3     0.866142                 0.1   \n",
      "312260         0.0            0.0     0.000000                 0.0   \n",
      "\n",
      "        nutrition-score-fr_100g nutrition_grade_fr  \n",
      "246815                      0.0                  0  \n",
      "182158                      1.0                  b  \n",
      "273125                      0.0                  0  \n",
      "217680                     15.0                  d  \n",
      "247366                      0.0                  0  \n",
      "...                         ...                ...  \n",
      "345236                      0.0                  0  \n",
      "260672                      0.0                  0  \n",
      "258352                     -5.0                  a  \n",
      "304424                      3.0                  c  \n",
      "312260                      0.0                  0  \n",
      "\n",
      "[720 rows x 10 columns]\n"
     ]
    }
   ],
   "source": [
    "print(df[df.duplicated(keep=False)])"
   ]
  },
  {
   "cell_type": "code",
   "execution_count": 39,
   "metadata": {},
   "outputs": [],
   "source": [
    "df.drop_duplicates(keep='last',inplace=True)"
   ]
  },
  {
   "cell_type": "code",
   "execution_count": 40,
   "metadata": {},
   "outputs": [
    {
     "name": "stdout",
     "output_type": "stream",
     "text": [
      "Empty DataFrame\n",
      "Columns: [product_name, countries, energy_100g, sugars_100g, fiber_100g, proteins_100g, sodium_100g, saturated-fat_100g, nutrition-score-fr_100g, nutrition_grade_fr]\n",
      "Index: []\n"
     ]
    }
   ],
   "source": [
    "print(df[df.duplicated(keep=False)])"
   ]
  },
  {
   "cell_type": "markdown",
   "metadata": {},
   "source": [
    "## 5. Les données aberrantes"
   ]
  },
  {
   "cell_type": "markdown",
   "metadata": {},
   "source": [
    "### 5.1 Les valeurs quantitatives ne peuvent être < 0 ni >100"
   ]
  },
  {
   "cell_type": "markdown",
   "metadata": {},
   "source": [
    "les valeurs ne peuvent pas être négatives, si il y en a je les remplace par 0, et je reconsidérerait les valeurs à zéro plus loin.\n",
    "les valeurs ne peuvent pas être >100 , si il y en a je les remplace par 100."
   ]
  },
  {
   "cell_type": "code",
   "execution_count": 66,
   "metadata": {},
   "outputs": [
    {
     "data": {
      "image/png": "[encoded data removed]",
      "text/plain": [
       "<Figure size 1080x720 with 1 Axes>"
      ]
     },
     "metadata": {
      "needs_background": "light"
     },
     "output_type": "display_data"
    }
   ],
   "source": [
    "data = [df['sugars_100g'], df['fiber_100g'], df['proteins_100g'],df['sodium_100g'],df['saturated-fat_100g']]\n",
    "\n",
    "plt.figure(figsize = (15,10))\n",
    "ax = plt.boxplot(data, whis=[5,95], vert=False)\n",
    "\n",
    "plt.title('Les données aberrantes')\n",
    "plt.yticks([1, 2, 3,4,5], ['sugars_100g', 'fiber_100g', 'proteins_100g','sodium_100g','saturated-fat_100g' ])\n",
    "\n",
    "plt.show()\n",
    "   "
   ]
  },
  {
   "cell_type": "markdown",
   "metadata": {},
   "source": [
    "dans un premier temps je supprime toutes les valeurs au dessus de 100, je les remplace par zéro."
   ]
  },
  {
   "cell_type": "code",
   "execution_count": 73,
   "metadata": {},
   "outputs": [],
   "source": [
    "columns=['sugars_100g','fiber_100g','proteins_100g','sodium_100g','saturated-fat_100g']\n",
    "\n",
    "for col in columns:\n",
    "    df.loc[df[col]> 100, col] = 0\n",
    "    "
   ]
  },
  {
   "cell_type": "code",
   "execution_count": 74,
   "metadata": {},
   "outputs": [
    {
     "data": {
      "image/png": "[encoded data removed]",
      "text/plain": [
       "<Figure size 1080x720 with 1 Axes>"
      ]
     },
     "metadata": {
      "needs_background": "light"
     },
     "output_type": "display_data"
    }
   ],
   "source": [
    "data = [df['sugars_100g'], df['fiber_100g'], df['proteins_100g'],df['sodium_100g'],df['saturated-fat_100g']]\n",
    "\n",
    "plt.figure(figsize = (15,10))\n",
    "ax = plt.boxplot(data, whis=[5,95], vert=False)\n",
    "\n",
    "plt.title('Les données aberrantes')\n",
    "plt.yticks([1, 2, 3,4,5], ['sugars_100g', 'fiber_100g', 'proteins_100g','sodium_100g','saturated-fat_100g' ])\n",
    "\n",
    "plt.show()\n",
    "   "
   ]
  },
  {
   "cell_type": "markdown",
   "metadata": {},
   "source": [
    "on constate bien la disparition des valeurs supérieures à 100."
   ]
  },
  {
   "cell_type": "markdown",
   "metadata": {},
   "source": [
    "## La consistance des données"
   ]
  },
  {
   "cell_type": "markdown",
   "metadata": {},
   "source": [
    "### vérifier les produits redondants"
   ]
  },
  {
   "cell_type": "markdown",
   "metadata": {},
   "source": [
    "## Sauvegarde en SQL"
   ]
  },
  {
   "cell_type": "code",
   "execution_count": 2,
   "metadata": {},
   "outputs": [],
   "source": [
    "# df_name = \"clean_data\"\n",
    "# ut.save_to_mysql(db_connect, df_clean_data_new, df_name)"
   ]
  },
  {
   "cell_type": "code",
   "execution_count": null,
   "metadata": {},
   "outputs": [],
   "source": []
  },
  {
   "cell_type": "code",
   "execution_count": null,
   "metadata": {},
   "outputs": [],
   "source": []
  }
 ],
 "metadata": {
  "kernelspec": {
   "display_name": "Python 3",
   "language": "python",
   "name": "python3"
  },
  "language_info": {
   "codemirror_mode": {
    "name": "ipython",
    "version": 3
   },
   "file_extension": ".py",
   "mimetype": "text/x-python",
   "name": "python",
   "nbconvert_exporter": "python",
   "pygments_lexer": "ipython3",
   "version": "3.8.5"
  }
 },
 "nbformat": 4,
 "nbformat_minor": 4
}
