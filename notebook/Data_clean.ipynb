{
 "cells": [
  {
   "cell_type": "code",
   "execution_count": 215,
   "metadata": {},
   "outputs": [],
   "source": [
    "import pandas as pd\n",
    "import matplotlib as mpl\n",
    "import matplotlib.pyplot as plt\n",
    "import seaborn as sns\n",
    "\n",
    "import mysql.connector\n",
    "\n",
    "import sys\n",
    "sys.path.insert(0,\"/home/apprenant/PycharmProjects/FoodFlix\")\n"
   ]
  },
  {
   "cell_type": "code",
   "execution_count": 217,
   "metadata": {},
   "outputs": [],
   "source": [
    "#keep the data\n",
    "df = pd.read_csv(\"../data/02_intermediate/intermediate.csv\", sep=',', low_memory=False)"
   ]
  },
  {
   "cell_type": "code",
   "execution_count": 218,
   "metadata": {},
   "outputs": [
    {
     "data": {
      "text/html": [
       "<div>\n",
       "<style scoped>\n",
       "    .dataframe tbody tr th:only-of-type {\n",
       "        vertical-align: middle;\n",
       "    }\n",
       "\n",
       "    .dataframe tbody tr th {\n",
       "        vertical-align: top;\n",
       "    }\n",
       "\n",
       "    .dataframe thead th {\n",
       "        text-align: right;\n",
       "    }\n",
       "</style>\n",
       "<table border=\"1\" class=\"dataframe\">\n",
       "  <thead>\n",
       "    <tr style=\"text-align: right;\">\n",
       "      <th></th>\n",
       "      <th>product_name</th>\n",
       "      <th>energy_100g</th>\n",
       "      <th>sugars_100g</th>\n",
       "      <th>fiber_100g</th>\n",
       "      <th>proteins_100g</th>\n",
       "      <th>sodium_100g</th>\n",
       "      <th>saturated-fat_100g</th>\n",
       "      <th>nutrition-score-fr_100g</th>\n",
       "      <th>nutrition_grade_fr</th>\n",
       "    </tr>\n",
       "  </thead>\n",
       "  <tbody>\n",
       "    <tr>\n",
       "      <th>0</th>\n",
       "      <td>Panés ou colin d'Alaska</td>\n",
       "      <td>837.0</td>\n",
       "      <td>18.5</td>\n",
       "      <td>0.8</td>\n",
       "      <td>11.4</td>\n",
       "      <td>0.244094</td>\n",
       "      <td>0.7</td>\n",
       "      <td>2.0</td>\n",
       "      <td>b</td>\n",
       "    </tr>\n",
       "    <tr>\n",
       "      <th>1</th>\n",
       "      <td>Condiment Balsamique Blanc</td>\n",
       "      <td>464.0</td>\n",
       "      <td>22.0</td>\n",
       "      <td>0.0</td>\n",
       "      <td>0.5</td>\n",
       "      <td>0.003937</td>\n",
       "      <td>0.0</td>\n",
       "      <td>5.0</td>\n",
       "      <td>c</td>\n",
       "    </tr>\n",
       "    <tr>\n",
       "      <th>2</th>\n",
       "      <td>Petit beurre Monoprix bio</td>\n",
       "      <td>1890.0</td>\n",
       "      <td>20.0</td>\n",
       "      <td>NaN</td>\n",
       "      <td>6.0</td>\n",
       "      <td>0.394000</td>\n",
       "      <td>10.0</td>\n",
       "      <td>22.0</td>\n",
       "      <td>e</td>\n",
       "    </tr>\n",
       "    <tr>\n",
       "      <th>3</th>\n",
       "      <td>Cornichons aigres-doux</td>\n",
       "      <td>144.0</td>\n",
       "      <td>4.0</td>\n",
       "      <td>1.7</td>\n",
       "      <td>1.1</td>\n",
       "      <td>0.492126</td>\n",
       "      <td>0.0</td>\n",
       "      <td>-2.0</td>\n",
       "      <td>a</td>\n",
       "    </tr>\n",
       "    <tr>\n",
       "      <th>4</th>\n",
       "      <td>Guacamole Épicé</td>\n",
       "      <td>788.0</td>\n",
       "      <td>1.1</td>\n",
       "      <td>4.6</td>\n",
       "      <td>1.7</td>\n",
       "      <td>0.409449</td>\n",
       "      <td>3.7</td>\n",
       "      <td>3.0</td>\n",
       "      <td>c</td>\n",
       "    </tr>\n",
       "    <tr>\n",
       "      <th>...</th>\n",
       "      <td>...</td>\n",
       "      <td>...</td>\n",
       "      <td>...</td>\n",
       "      <td>...</td>\n",
       "      <td>...</td>\n",
       "      <td>...</td>\n",
       "      <td>...</td>\n",
       "      <td>...</td>\n",
       "      <td>...</td>\n",
       "    </tr>\n",
       "    <tr>\n",
       "      <th>29530</th>\n",
       "      <td>Salami Milano</td>\n",
       "      <td>1406.0</td>\n",
       "      <td>0.5</td>\n",
       "      <td>0.0</td>\n",
       "      <td>21.0</td>\n",
       "      <td>1.574803</td>\n",
       "      <td>9.8</td>\n",
       "      <td>23.0</td>\n",
       "      <td>e</td>\n",
       "    </tr>\n",
       "    <tr>\n",
       "      <th>29531</th>\n",
       "      <td>Yaourt nature maigre 0% MG</td>\n",
       "      <td>153.0</td>\n",
       "      <td>4.5</td>\n",
       "      <td>NaN</td>\n",
       "      <td>4.3</td>\n",
       "      <td>0.050000</td>\n",
       "      <td>NaN</td>\n",
       "      <td>NaN</td>\n",
       "      <td>NaN</td>\n",
       "    </tr>\n",
       "    <tr>\n",
       "      <th>29532</th>\n",
       "      <td>Maïs Bio</td>\n",
       "      <td>334.0</td>\n",
       "      <td>5.2</td>\n",
       "      <td>3.8</td>\n",
       "      <td>2.9</td>\n",
       "      <td>0.157480</td>\n",
       "      <td>0.5</td>\n",
       "      <td>-9.0</td>\n",
       "      <td>a</td>\n",
       "    </tr>\n",
       "    <tr>\n",
       "      <th>29533</th>\n",
       "      <td>Petits Pains Grillés Blé Complet</td>\n",
       "      <td>1599.0</td>\n",
       "      <td>3.5</td>\n",
       "      <td>8.0</td>\n",
       "      <td>11.3</td>\n",
       "      <td>0.598425</td>\n",
       "      <td>0.5</td>\n",
       "      <td>0.0</td>\n",
       "      <td>b</td>\n",
       "    </tr>\n",
       "    <tr>\n",
       "      <th>29534</th>\n",
       "      <td>Miel Crémeux</td>\n",
       "      <td>1360.0</td>\n",
       "      <td>80.0</td>\n",
       "      <td>NaN</td>\n",
       "      <td>0.0</td>\n",
       "      <td>0.007874</td>\n",
       "      <td>0.0</td>\n",
       "      <td>14.0</td>\n",
       "      <td>d</td>\n",
       "    </tr>\n",
       "  </tbody>\n",
       "</table>\n",
       "<p>29535 rows × 9 columns</p>\n",
       "</div>"
      ],
      "text/plain": [
       "                           product_name  energy_100g  sugars_100g  fiber_100g  \\\n",
       "0               Panés ou colin d'Alaska        837.0         18.5         0.8   \n",
       "1            Condiment Balsamique Blanc        464.0         22.0         0.0   \n",
       "2             Petit beurre Monoprix bio       1890.0         20.0         NaN   \n",
       "3                Cornichons aigres-doux        144.0          4.0         1.7   \n",
       "4                       Guacamole Épicé        788.0          1.1         4.6   \n",
       "...                                 ...          ...          ...         ...   \n",
       "29530                     Salami Milano       1406.0          0.5         0.0   \n",
       "29531        Yaourt nature maigre 0% MG        153.0          4.5         NaN   \n",
       "29532                          Maïs Bio        334.0          5.2         3.8   \n",
       "29533  Petits Pains Grillés Blé Complet       1599.0          3.5         8.0   \n",
       "29534                      Miel Crémeux       1360.0         80.0         NaN   \n",
       "\n",
       "       proteins_100g  sodium_100g  saturated-fat_100g  \\\n",
       "0               11.4     0.244094                 0.7   \n",
       "1                0.5     0.003937                 0.0   \n",
       "2                6.0     0.394000                10.0   \n",
       "3                1.1     0.492126                 0.0   \n",
       "4                1.7     0.409449                 3.7   \n",
       "...              ...          ...                 ...   \n",
       "29530           21.0     1.574803                 9.8   \n",
       "29531            4.3     0.050000                 NaN   \n",
       "29532            2.9     0.157480                 0.5   \n",
       "29533           11.3     0.598425                 0.5   \n",
       "29534            0.0     0.007874                 0.0   \n",
       "\n",
       "       nutrition-score-fr_100g nutrition_grade_fr  \n",
       "0                          2.0                  b  \n",
       "1                          5.0                  c  \n",
       "2                         22.0                  e  \n",
       "3                         -2.0                  a  \n",
       "4                          3.0                  c  \n",
       "...                        ...                ...  \n",
       "29530                     23.0                  e  \n",
       "29531                      NaN                NaN  \n",
       "29532                     -9.0                  a  \n",
       "29533                      0.0                  b  \n",
       "29534                     14.0                  d  \n",
       "\n",
       "[29535 rows x 9 columns]"
      ]
     },
     "execution_count": 218,
     "metadata": {},
     "output_type": "execute_result"
    }
   ],
   "source": [
    "df"
   ]
  },
  {
   "cell_type": "code",
   "execution_count": 219,
   "metadata": {},
   "outputs": [
    {
     "data": {
      "text/plain": [
       "Index(['product_name', 'energy_100g', 'sugars_100g', 'fiber_100g',\n",
       "       'proteins_100g', 'sodium_100g', 'saturated-fat_100g',\n",
       "       'nutrition-score-fr_100g', 'nutrition_grade_fr'],\n",
       "      dtype='object')"
      ]
     },
     "execution_count": 219,
     "metadata": {},
     "output_type": "execute_result"
    }
   ],
   "source": [
    "#the save to csv add an index, I drop it\n",
    "df.columns\n"
   ]
  },
  {
   "cell_type": "markdown",
   "metadata": {},
   "source": [
    "# 1. Traitement des Doublons"
   ]
  },
  {
   "cell_type": "markdown",
   "metadata": {},
   "source": [
    "## 2.1 recherche des doublons"
   ]
  },
  {
   "cell_type": "code",
   "execution_count": 221,
   "metadata": {},
   "outputs": [
    {
     "name": "stdout",
     "output_type": "stream",
     "text": [
      "False    29166\n",
      "True       369\n",
      "dtype: int64\n"
     ]
    },
    {
     "data": {
      "text/plain": [
       "(29535, 9)"
      ]
     },
     "execution_count": 221,
     "metadata": {},
     "output_type": "execute_result"
    }
   ],
   "source": [
    "print(df.duplicated().value_counts())\n",
    "df.shape"
   ]
  },
  {
   "cell_type": "markdown",
   "metadata": {},
   "source": [
    "## II.2 Traitement des doublons"
   ]
  },
  {
   "cell_type": "code",
   "execution_count": 222,
   "metadata": {},
   "outputs": [
    {
     "name": "stdout",
     "output_type": "stream",
     "text": [
      "Empty DataFrame\n",
      "Columns: [product_name, energy_100g, sugars_100g, fiber_100g, proteins_100g, sodium_100g, saturated-fat_100g, nutrition-score-fr_100g, nutrition_grade_fr]\n",
      "Index: []\n"
     ]
    },
    {
     "data": {
      "text/plain": [
       "(29166, 9)"
      ]
     },
     "execution_count": 222,
     "metadata": {},
     "output_type": "execute_result"
    }
   ],
   "source": [
    "df.drop_duplicates(keep='last',inplace=True)\n",
    "print(df[df.duplicated(keep=False)])\n",
    "df.shape"
   ]
  },
  {
   "cell_type": "markdown",
   "metadata": {},
   "source": [
    "# 2. Traitement des valeurs manquantes"
   ]
  },
  {
   "cell_type": "code",
   "execution_count": 223,
   "metadata": {},
   "outputs": [
    {
     "name": "stdout",
     "output_type": "stream",
     "text": [
      "product_name                   0\n",
      "energy_100g                 3926\n",
      "sugars_100g                 4403\n",
      "fiber_100g                 12165\n",
      "proteins_100g               3988\n",
      "sodium_100g                 4398\n",
      "saturated-fat_100g          4415\n",
      "nutrition-score-fr_100g     4800\n",
      "nutrition_grade_fr          4800\n",
      "dtype: int64\n",
      "(29166, 9)\n"
     ]
    }
   ],
   "source": [
    "#recherche des valeurs manquantes:\n",
    "\n",
    "print(df.isna().sum())\n",
    "print(df.shape)"
   ]
  },
  {
   "cell_type": "markdown",
   "metadata": {},
   "source": [
    "comme il s'agit ici de calculer un score, je remplace toutes les valeurs Nan par zéro."
   ]
  },
  {
   "cell_type": "code",
   "execution_count": 224,
   "metadata": {},
   "outputs": [],
   "source": [
    "df = df.fillna(0)"
   ]
  },
  {
   "cell_type": "code",
   "execution_count": 225,
   "metadata": {},
   "outputs": [
    {
     "name": "stdout",
     "output_type": "stream",
     "text": [
      "product_name               0\n",
      "energy_100g                0\n",
      "sugars_100g                0\n",
      "fiber_100g                 0\n",
      "proteins_100g              0\n",
      "sodium_100g                0\n",
      "saturated-fat_100g         0\n",
      "nutrition-score-fr_100g    0\n",
      "nutrition_grade_fr         0\n",
      "dtype: int64\n",
      "(29166, 9)\n"
     ]
    }
   ],
   "source": [
    "print(df.isna().sum())\n",
    "print(df.shape)"
   ]
  },
  {
   "cell_type": "markdown",
   "metadata": {},
   "source": [
    "on constate que les Nan ont bien été modifiées."
   ]
  },
  {
   "cell_type": "markdown",
   "metadata": {},
   "source": [
    "# 3.Consistance, reformatage et valeurs abbérantes."
   ]
  },
  {
   "cell_type": "markdown",
   "metadata": {},
   "source": [
    "## 3.1 Evaluer la consistance des variables de type caractère."
   ]
  },
  {
   "cell_type": "markdown",
   "metadata": {},
   "source": [
    "#### Afficher l'ensemble des valeurs uniques"
   ]
  },
  {
   "cell_type": "code",
   "execution_count": 226,
   "metadata": {},
   "outputs": [
    {
     "data": {
      "text/plain": [
       "Mayonnaise                                                  22\n",
       "Huile d'olive vierge extra                                  16\n",
       "Mozzarella                                                  15\n",
       "Spaghetti                                                   15\n",
       "Coquillettes                                                14\n",
       "                                                            ..\n",
       "Miel Forêt et Sapin                                          1\n",
       "Bûche glacée, caramel-vanille-pécan                          1\n",
       "Huile d'olive vierge extra au piment                         1\n",
       "Les glaces façon Panna Cotta sauce caramel à l'italienne     1\n",
       "Beurre de Bretagne demi-sel                                  1\n",
       "Name: product_name, Length: 26397, dtype: int64"
      ]
     },
     "execution_count": 226,
     "metadata": {},
     "output_type": "execute_result"
    }
   ],
   "source": [
    "df[\"product_name\"].value_counts()"
   ]
  },
  {
   "cell_type": "markdown",
   "metadata": {},
   "source": [
    "pour les produits sur-représentés il convient de vérifier quelle valeur est la bonne"
   ]
  },
  {
   "cell_type": "markdown",
   "metadata": {},
   "source": [
    "Il y a 22 occurence de mayonnaise, je vais donc les remplacer par une seule qui aura pour valeur la moyenne des 22 autres produits."
   ]
  },
  {
   "cell_type": "code",
   "execution_count": 242,
   "metadata": {},
   "outputs": [
    {
     "name": "stdout",
     "output_type": "stream",
     "text": [
      "product_name              NaN\n",
      "energy_100g               NaN\n",
      "sugars_100g               NaN\n",
      "fiber_100g                NaN\n",
      "proteins_100g             NaN\n",
      "sodium_100g               NaN\n",
      "saturated-fat_100g        NaN\n",
      "nutrition-score-fr_100g   NaN\n",
      "nutrition_grade_fr        NaN\n",
      "dtype: float64\n"
     ]
    }
   ],
   "source": [
    "new_row = df[df[\"product_name\"].isin([\"Mayonnaise\"])].mean()\n",
    "print(df[df[\"product_name\"].isin([\"Mayonnaise\"])].mean())"
   ]
  },
  {
   "cell_type": "code",
   "execution_count": 231,
   "metadata": {},
   "outputs": [
    {
     "name": "stdout",
     "output_type": "stream",
     "text": [
      "Int64Index([  998,  1641,  2318,  2744,  2914,  8400,  8627, 10880, 11932,\n",
      "            15015, 16652, 17502, 19339, 19485, 20525, 22034, 23017, 23331,\n",
      "            23458, 25561, 25927, 27844],\n",
      "           dtype='int64')\n"
     ]
    }
   ],
   "source": [
    "df_mayo = df[(df['product_name'].isin([\"Mayonnaise\"]))]\n",
    "idx = df.index[df['product_name'].isin([\"Mayonnaise\"])]\n",
    "print(idx)\n",
    "for i in idx:\n",
    "    df = df.drop(i)\n"
   ]
  },
  {
   "cell_type": "code",
   "execution_count": 240,
   "metadata": {},
   "outputs": [
    {
     "data": {
      "text/plain": [
       "Jus d'orange avec pulpe                   1\n",
       "Mini Marbres Au Chocolat X5 Rik&rok       1\n",
       "Haricots verts très fins coupés           1\n",
       "Protein Drink Inkospor Active, Schoko     1\n",
       "Cognac                                    1\n",
       "                                         ..\n",
       "Orange                                   14\n",
       "Coquillettes                             14\n",
       "Mozzarella                               15\n",
       "Spaghetti                                15\n",
       "Huile d'olive vierge extra               16\n",
       "Name: product_name, Length: 26396, dtype: int64"
      ]
     },
     "execution_count": 240,
     "metadata": {},
     "output_type": "execute_result"
    }
   ],
   "source": [
    "new_df = df\n",
    "new_df['product_name'].value_counts().sort_values()"
   ]
  },
  {
   "cell_type": "markdown",
   "metadata": {},
   "source": [
    "## 3.2 Evaluer la consistance des variables de type numérique"
   ]
  },
  {
   "cell_type": "markdown",
   "metadata": {},
   "source": [
    "#### Afficher la distribution d'une variable numérique"
   ]
  },
  {
   "cell_type": "code",
   "execution_count": 102,
   "metadata": {},
   "outputs": [
    {
     "data": {
      "image/png": "[encoded data removed]",
      "text/plain": [
       "<Figure size 1440x720 with 1 Axes>"
      ]
     },
     "metadata": {
      "needs_background": "light"
     },
     "output_type": "display_data"
    }
   ],
   "source": [
    "data = [df['sugars_100g'], df['fiber_100g'], df['proteins_100g'],df['sodium_100g'],df['saturated-fat_100g']]\n",
    "plt.figure(figsize = (20,10))\n",
    "ax = plt.boxplot(data, whis=[5,95], vert=False)\n",
    "\n",
    "\n",
    "plt.title('Les données aberrantes')\n",
    "plt.yticks([1, 2, 3,4,5], ['sugars_100g', 'fiber_100g', 'proteins_100g','sodium_100g','saturated-fat_100g' ])\n",
    "\n",
    "plt.show()   "
   ]
  },
  {
   "cell_type": "markdown",
   "metadata": {},
   "source": [
    "il s'agit de valeurs quantitatif pour 100g de produit ces valeurs ne peuvent donc ni etre négatives ni supérieures à 100"
   ]
  },
  {
   "cell_type": "code",
   "execution_count": 103,
   "metadata": {},
   "outputs": [],
   "source": [
    "columns=['sugars_100g','fiber_100g','proteins_100g','sodium_100g','saturated-fat_100g']\n",
    "\n",
    "for col in columns:\n",
    "    df.loc[df[col]> 100, col] = 0\n",
    "    "
   ]
  },
  {
   "cell_type": "code",
   "execution_count": 105,
   "metadata": {},
   "outputs": [
    {
     "data": {
      "image/png": "[encoded data removed]",
      "text/plain": [
       "<Figure size 1440x720 with 1 Axes>"
      ]
     },
     "metadata": {
      "needs_background": "light"
     },
     "output_type": "display_data"
    }
   ],
   "source": [
    "plt.figure(figsize = (20,10))\n",
    "ax = plt.boxplot(data, vert=False)\n",
    "\n",
    "\n",
    "plt.title('Les données aberrantes')\n",
    "plt.yticks([1, 2, 3,4,5], ['sugars_100g', 'fiber_100g', 'proteins_100g','sodium_100g','saturated-fat_100g' ])\n",
    "\n",
    "plt.show()   "
   ]
  },
  {
   "cell_type": "markdown",
   "metadata": {},
   "source": [
    "#### Traiter les valeurs impossibles"
   ]
  },
  {
   "cell_type": "markdown",
   "metadata": {},
   "source": [
    "l'énergie d'un aliment ne peut pas être supérieure à 4000KJ (notion métier)"
   ]
  },
  {
   "cell_type": "code",
   "execution_count": 107,
   "metadata": {},
   "outputs": [
    {
     "data": {
      "image/png": "[encoded data removed]",
      "text/plain": [
       "<Figure size 1440x720 with 1 Axes>"
      ]
     },
     "metadata": {
      "needs_background": "light"
     },
     "output_type": "display_data"
    }
   ],
   "source": [
    "plt.figure(figsize = (20,10))\n",
    "ax = plt.boxplot(df['energy_100g'], vert=False)\n",
    "\n",
    "plt.title('Les données énergie aberrantes')\n",
    "plt.yticks([1], ['energy_100g' ])\n",
    "\n",
    "plt.show()   "
   ]
  },
  {
   "cell_type": "code",
   "execution_count": 108,
   "metadata": {},
   "outputs": [],
   "source": [
    "df = df[df['energy_100g']<4000]"
   ]
  },
  {
   "cell_type": "code",
   "execution_count": 109,
   "metadata": {},
   "outputs": [
    {
     "data": {
      "image/png": "[encoded data removed]",
      "text/plain": [
       "<Figure size 1440x720 with 1 Axes>"
      ]
     },
     "metadata": {
      "needs_background": "light"
     },
     "output_type": "display_data"
    }
   ],
   "source": [
    "plt.figure(figsize = (20,10))\n",
    "ax = plt.boxplot(df['energy_100g'], vert=False)\n",
    "\n",
    "plt.title('Les données énergie aberrantes')\n",
    "plt.yticks([1], ['energy_100g' ])\n",
    "\n",
    "plt.show()   "
   ]
  },
  {
   "cell_type": "markdown",
   "metadata": {},
   "source": [
    "# sauvegarde du jeu de données nettoyées"
   ]
  },
  {
   "cell_type": "code",
   "execution_count": null,
   "metadata": {},
   "outputs": [],
   "source": [
    "df.to_csv(\"../data/02_intermediate/final.csv\")"
   ]
  }
 ],
 "metadata": {
  "kernelspec": {
   "display_name": "Python 3",
   "language": "python",
   "name": "python3"
  },
  "language_info": {
   "codemirror_mode": {
    "name": "ipython",
    "version": 3
   },
   "file_extension": ".py",
   "mimetype": "text/x-python",
   "name": "python",
   "nbconvert_exporter": "python",
   "pygments_lexer": "ipython3",
   "version": "3.8.5"
  }
 },
 "nbformat": 4,
 "nbformat_minor": 4
}
