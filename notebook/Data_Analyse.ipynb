{
 "cells": [
  {
   "cell_type": "code",
   "execution_count": 2,
   "metadata": {},
   "outputs": [],
   "source": [
    "import sys\n",
    "sys.path.insert(0,\"/home/apprenant/PycharmProjects/FoodFlix\")\n",
    "\n",
    "import re\n",
    "import matplotlib as mpl\n",
    "import matplotlib.pyplot as plt\n",
    "import seaborn as sns\n",
    "import missingno as msno\n",
    "\n",
    "from src.d01_data.load_data import df_raw as df"
   ]
  },
  {
   "cell_type": "code",
   "execution_count": 3,
   "metadata": {},
   "outputs": [
    {
     "data": {
      "text/html": [
       "<div>\n",
       "<style scoped>\n",
       "    .dataframe tbody tr th:only-of-type {\n",
       "        vertical-align: middle;\n",
       "    }\n",
       "\n",
       "    .dataframe tbody tr th {\n",
       "        vertical-align: top;\n",
       "    }\n",
       "\n",
       "    .dataframe thead th {\n",
       "        text-align: right;\n",
       "    }\n",
       "</style>\n",
       "<table border=\"1\" class=\"dataframe\">\n",
       "  <thead>\n",
       "    <tr style=\"text-align: right;\">\n",
       "      <th></th>\n",
       "      <th>code</th>\n",
       "      <th>url</th>\n",
       "      <th>creator</th>\n",
       "      <th>created_t</th>\n",
       "      <th>created_datetime</th>\n",
       "      <th>last_modified_t</th>\n",
       "      <th>last_modified_datetime</th>\n",
       "      <th>product_name</th>\n",
       "      <th>generic_name</th>\n",
       "      <th>quantity</th>\n",
       "      <th>...</th>\n",
       "      <th>fruits-vegetables-nuts_100g</th>\n",
       "      <th>fruits-vegetables-nuts-estimate_100g</th>\n",
       "      <th>collagen-meat-protein-ratio_100g</th>\n",
       "      <th>cocoa_100g</th>\n",
       "      <th>chlorophyl_100g</th>\n",
       "      <th>carbon-footprint_100g</th>\n",
       "      <th>nutrition-score-fr_100g</th>\n",
       "      <th>nutrition-score-uk_100g</th>\n",
       "      <th>glycemic-index_100g</th>\n",
       "      <th>water-hardness_100g</th>\n",
       "    </tr>\n",
       "  </thead>\n",
       "  <tbody>\n",
       "    <tr>\n",
       "      <th>156319</th>\n",
       "      <td>0829515322076</td>\n",
       "      <td>http://world-en.openfoodfacts.org/product/0829...</td>\n",
       "      <td>usda-ndb-import</td>\n",
       "      <td>1489073005</td>\n",
       "      <td>2017-03-09T15:23:25Z</td>\n",
       "      <td>1489073005</td>\n",
       "      <td>2017-03-09T15:23:25Z</td>\n",
       "      <td>Sensible Portions, Pea Poppers, Hot'N Spicy</td>\n",
       "      <td>NaN</td>\n",
       "      <td>NaN</td>\n",
       "      <td>...</td>\n",
       "      <td>NaN</td>\n",
       "      <td>NaN</td>\n",
       "      <td>NaN</td>\n",
       "      <td>NaN</td>\n",
       "      <td>NaN</td>\n",
       "      <td>NaN</td>\n",
       "      <td>-2.0</td>\n",
       "      <td>-2.0</td>\n",
       "      <td>NaN</td>\n",
       "      <td>NaN</td>\n",
       "    </tr>\n",
       "    <tr>\n",
       "      <th>285047</th>\n",
       "      <td>4021457615865</td>\n",
       "      <td>http://world-en.openfoodfacts.org/product/4021...</td>\n",
       "      <td>openfoodfacts-contributors</td>\n",
       "      <td>1493663698</td>\n",
       "      <td>2017-05-01T18:34:58Z</td>\n",
       "      <td>1493663766</td>\n",
       "      <td>2017-05-01T18:36:06Z</td>\n",
       "      <td>Men sensitive deo roll on</td>\n",
       "      <td>NaN</td>\n",
       "      <td>50 ml</td>\n",
       "      <td>...</td>\n",
       "      <td>NaN</td>\n",
       "      <td>NaN</td>\n",
       "      <td>NaN</td>\n",
       "      <td>NaN</td>\n",
       "      <td>NaN</td>\n",
       "      <td>NaN</td>\n",
       "      <td>NaN</td>\n",
       "      <td>NaN</td>\n",
       "      <td>NaN</td>\n",
       "      <td>NaN</td>\n",
       "    </tr>\n",
       "    <tr>\n",
       "      <th>275492</th>\n",
       "      <td>3760121210791</td>\n",
       "      <td>http://world-en.openfoodfacts.org/product/3760...</td>\n",
       "      <td>stephane</td>\n",
       "      <td>1356018845</td>\n",
       "      <td>2012-12-20T15:54:05Z</td>\n",
       "      <td>1362622430</td>\n",
       "      <td>2013-03-07T02:13:50Z</td>\n",
       "      <td>Purée Pomme Myrtille sans sucres ajoutés</td>\n",
       "      <td>purée de pommes et de myrtilles sans sucres aj...</td>\n",
       "      <td>400g (4x100g)</td>\n",
       "      <td>...</td>\n",
       "      <td>NaN</td>\n",
       "      <td>NaN</td>\n",
       "      <td>NaN</td>\n",
       "      <td>NaN</td>\n",
       "      <td>NaN</td>\n",
       "      <td>NaN</td>\n",
       "      <td>-5.0</td>\n",
       "      <td>-5.0</td>\n",
       "      <td>NaN</td>\n",
       "      <td>NaN</td>\n",
       "    </tr>\n",
       "    <tr>\n",
       "      <th>254368</th>\n",
       "      <td>3546635007382</td>\n",
       "      <td>http://world-en.openfoodfacts.org/product/3546...</td>\n",
       "      <td>nounours</td>\n",
       "      <td>1340192626</td>\n",
       "      <td>2012-06-20T11:43:46Z</td>\n",
       "      <td>1453290769</td>\n",
       "      <td>2016-01-20T11:52:49Z</td>\n",
       "      <td>Abatilles Sainte Anne &amp;quot;la Bordelaise&amp;quot;</td>\n",
       "      <td>eau minérale naturelle</td>\n",
       "      <td>1l</td>\n",
       "      <td>...</td>\n",
       "      <td>NaN</td>\n",
       "      <td>NaN</td>\n",
       "      <td>NaN</td>\n",
       "      <td>NaN</td>\n",
       "      <td>NaN</td>\n",
       "      <td>NaN</td>\n",
       "      <td>NaN</td>\n",
       "      <td>NaN</td>\n",
       "      <td>NaN</td>\n",
       "      <td>NaN</td>\n",
       "    </tr>\n",
       "    <tr>\n",
       "      <th>125679</th>\n",
       "      <td>0682906890673</td>\n",
       "      <td>http://world-en.openfoodfacts.org/product/0682...</td>\n",
       "      <td>usda-ndb-import</td>\n",
       "      <td>1489095957</td>\n",
       "      <td>2017-03-09T21:45:57Z</td>\n",
       "      <td>1489095957</td>\n",
       "      <td>2017-03-09T21:45:57Z</td>\n",
       "      <td>Ham &amp; Cheese Dark Wheat Bread</td>\n",
       "      <td>NaN</td>\n",
       "      <td>NaN</td>\n",
       "      <td>...</td>\n",
       "      <td>NaN</td>\n",
       "      <td>NaN</td>\n",
       "      <td>NaN</td>\n",
       "      <td>NaN</td>\n",
       "      <td>NaN</td>\n",
       "      <td>NaN</td>\n",
       "      <td>11.0</td>\n",
       "      <td>11.0</td>\n",
       "      <td>NaN</td>\n",
       "      <td>NaN</td>\n",
       "    </tr>\n",
       "  </tbody>\n",
       "</table>\n",
       "<p>5 rows × 163 columns</p>\n",
       "</div>"
      ],
      "text/plain": [
       "                 code                                                url  \\\n",
       "156319  0829515322076  http://world-en.openfoodfacts.org/product/0829...   \n",
       "285047  4021457615865  http://world-en.openfoodfacts.org/product/4021...   \n",
       "275492  3760121210791  http://world-en.openfoodfacts.org/product/3760...   \n",
       "254368  3546635007382  http://world-en.openfoodfacts.org/product/3546...   \n",
       "125679  0682906890673  http://world-en.openfoodfacts.org/product/0682...   \n",
       "\n",
       "                           creator   created_t      created_datetime  \\\n",
       "156319             usda-ndb-import  1489073005  2017-03-09T15:23:25Z   \n",
       "285047  openfoodfacts-contributors  1493663698  2017-05-01T18:34:58Z   \n",
       "275492                    stephane  1356018845  2012-12-20T15:54:05Z   \n",
       "254368                    nounours  1340192626  2012-06-20T11:43:46Z   \n",
       "125679             usda-ndb-import  1489095957  2017-03-09T21:45:57Z   \n",
       "\n",
       "       last_modified_t last_modified_datetime  \\\n",
       "156319      1489073005   2017-03-09T15:23:25Z   \n",
       "285047      1493663766   2017-05-01T18:36:06Z   \n",
       "275492      1362622430   2013-03-07T02:13:50Z   \n",
       "254368      1453290769   2016-01-20T11:52:49Z   \n",
       "125679      1489095957   2017-03-09T21:45:57Z   \n",
       "\n",
       "                                           product_name  \\\n",
       "156319      Sensible Portions, Pea Poppers, Hot'N Spicy   \n",
       "285047                        Men sensitive deo roll on   \n",
       "275492         Purée Pomme Myrtille sans sucres ajoutés   \n",
       "254368  Abatilles Sainte Anne &quot;la Bordelaise&quot;   \n",
       "125679                    Ham & Cheese Dark Wheat Bread   \n",
       "\n",
       "                                             generic_name       quantity  ...  \\\n",
       "156319                                                NaN            NaN  ...   \n",
       "285047                                                NaN          50 ml  ...   \n",
       "275492  purée de pommes et de myrtilles sans sucres aj...  400g (4x100g)  ...   \n",
       "254368                             eau minérale naturelle             1l  ...   \n",
       "125679                                                NaN            NaN  ...   \n",
       "\n",
       "       fruits-vegetables-nuts_100g fruits-vegetables-nuts-estimate_100g  \\\n",
       "156319                         NaN                                  NaN   \n",
       "285047                         NaN                                  NaN   \n",
       "275492                         NaN                                  NaN   \n",
       "254368                         NaN                                  NaN   \n",
       "125679                         NaN                                  NaN   \n",
       "\n",
       "       collagen-meat-protein-ratio_100g cocoa_100g chlorophyl_100g  \\\n",
       "156319                              NaN        NaN             NaN   \n",
       "285047                              NaN        NaN             NaN   \n",
       "275492                              NaN        NaN             NaN   \n",
       "254368                              NaN        NaN             NaN   \n",
       "125679                              NaN        NaN             NaN   \n",
       "\n",
       "       carbon-footprint_100g nutrition-score-fr_100g nutrition-score-uk_100g  \\\n",
       "156319                   NaN                    -2.0                    -2.0   \n",
       "285047                   NaN                     NaN                     NaN   \n",
       "275492                   NaN                    -5.0                    -5.0   \n",
       "254368                   NaN                     NaN                     NaN   \n",
       "125679                   NaN                    11.0                    11.0   \n",
       "\n",
       "       glycemic-index_100g water-hardness_100g  \n",
       "156319                 NaN                 NaN  \n",
       "285047                 NaN                 NaN  \n",
       "275492                 NaN                 NaN  \n",
       "254368                 NaN                 NaN  \n",
       "125679                 NaN                 NaN  \n",
       "\n",
       "[5 rows x 163 columns]"
      ]
     },
     "execution_count": 3,
     "metadata": {},
     "output_type": "execute_result"
    }
   ],
   "source": [
    "df.head()"
   ]
  },
  {
   "cell_type": "code",
   "execution_count": 4,
   "metadata": {},
   "outputs": [
    {
     "data": {
      "text/plain": [
       "(100000, 163)"
      ]
     },
     "execution_count": 4,
     "metadata": {},
     "output_type": "execute_result"
    }
   ],
   "source": [
    "df.shape"
   ]
  },
  {
   "cell_type": "code",
   "execution_count": 5,
   "metadata": {},
   "outputs": [],
   "source": [
    "# drop empty columns\n",
    "df.dropna(how='all', axis=1, inplace=True)"
   ]
  },
  {
   "cell_type": "code",
   "execution_count": 6,
   "metadata": {},
   "outputs": [
    {
     "data": {
      "text/plain": [
       "(100000, 145)"
      ]
     },
     "execution_count": 6,
     "metadata": {},
     "output_type": "execute_result"
    }
   ],
   "source": [
    "df.shape"
   ]
  },
  {
   "cell_type": "code",
   "execution_count": 7,
   "metadata": {},
   "outputs": [],
   "source": [
    "#drop empty rows\n",
    "df.dropna(how='all', axis=0, inplace=True)"
   ]
  },
  {
   "cell_type": "code",
   "execution_count": 8,
   "metadata": {},
   "outputs": [
    {
     "data": {
      "text/plain": [
       "(100000, 145)"
      ]
     },
     "execution_count": 8,
     "metadata": {},
     "output_type": "execute_result"
    }
   ],
   "source": [
    "df.shape"
   ]
  },
  {
   "cell_type": "code",
   "execution_count": 9,
   "metadata": {},
   "outputs": [
    {
     "data": {
      "text/plain": [
       "['code',\n",
       " 'url',\n",
       " 'creator',\n",
       " 'created_t',\n",
       " 'created_datetime',\n",
       " 'last_modified_t',\n",
       " 'last_modified_datetime',\n",
       " 'product_name',\n",
       " 'generic_name',\n",
       " 'quantity',\n",
       " 'packaging',\n",
       " 'packaging_tags',\n",
       " 'brands',\n",
       " 'brands_tags',\n",
       " 'categories',\n",
       " 'categories_tags',\n",
       " 'categories_en',\n",
       " 'origins',\n",
       " 'origins_tags',\n",
       " 'manufacturing_places',\n",
       " 'manufacturing_places_tags',\n",
       " 'labels',\n",
       " 'labels_tags',\n",
       " 'labels_en',\n",
       " 'emb_codes',\n",
       " 'emb_codes_tags',\n",
       " 'first_packaging_code_geo',\n",
       " 'cities',\n",
       " 'cities_tags',\n",
       " 'purchase_places',\n",
       " 'stores',\n",
       " 'countries',\n",
       " 'countries_tags',\n",
       " 'countries_en',\n",
       " 'ingredients_text',\n",
       " 'allergens',\n",
       " 'allergens_en',\n",
       " 'traces',\n",
       " 'traces_tags',\n",
       " 'traces_en',\n",
       " 'serving_size',\n",
       " 'additives_n',\n",
       " 'additives',\n",
       " 'additives_tags',\n",
       " 'additives_en',\n",
       " 'ingredients_from_palm_oil_n',\n",
       " 'ingredients_from_palm_oil_tags',\n",
       " 'ingredients_that_may_be_from_palm_oil_n',\n",
       " 'ingredients_that_may_be_from_palm_oil_tags',\n",
       " 'nutrition_grade_fr',\n",
       " 'pnns_groups_1',\n",
       " 'pnns_groups_2',\n",
       " 'states',\n",
       " 'states_tags',\n",
       " 'states_en',\n",
       " 'main_category',\n",
       " 'main_category_en',\n",
       " 'image_url',\n",
       " 'image_small_url',\n",
       " 'energy_100g',\n",
       " 'energy-from-fat_100g',\n",
       " 'fat_100g',\n",
       " 'saturated-fat_100g',\n",
       " '-caprylic-acid_100g',\n",
       " '-capric-acid_100g',\n",
       " '-lauric-acid_100g',\n",
       " '-myristic-acid_100g',\n",
       " '-palmitic-acid_100g',\n",
       " '-stearic-acid_100g',\n",
       " '-arachidic-acid_100g',\n",
       " '-behenic-acid_100g',\n",
       " 'monounsaturated-fat_100g',\n",
       " 'polyunsaturated-fat_100g',\n",
       " 'omega-3-fat_100g',\n",
       " '-alpha-linolenic-acid_100g',\n",
       " '-eicosapentaenoic-acid_100g',\n",
       " '-docosahexaenoic-acid_100g',\n",
       " 'omega-6-fat_100g',\n",
       " '-linoleic-acid_100g',\n",
       " '-arachidonic-acid_100g',\n",
       " '-gamma-linolenic-acid_100g',\n",
       " '-dihomo-gamma-linolenic-acid_100g',\n",
       " 'omega-9-fat_100g',\n",
       " '-oleic-acid_100g',\n",
       " '-gondoic-acid_100g',\n",
       " 'trans-fat_100g',\n",
       " 'cholesterol_100g',\n",
       " 'carbohydrates_100g',\n",
       " 'sugars_100g',\n",
       " '-sucrose_100g',\n",
       " '-glucose_100g',\n",
       " '-fructose_100g',\n",
       " '-lactose_100g',\n",
       " '-maltose_100g',\n",
       " '-maltodextrins_100g',\n",
       " 'starch_100g',\n",
       " 'polyols_100g',\n",
       " 'fiber_100g',\n",
       " 'proteins_100g',\n",
       " 'casein_100g',\n",
       " 'serum-proteins_100g',\n",
       " 'salt_100g',\n",
       " 'sodium_100g',\n",
       " 'alcohol_100g',\n",
       " 'vitamin-a_100g',\n",
       " 'beta-carotene_100g',\n",
       " 'vitamin-d_100g',\n",
       " 'vitamin-e_100g',\n",
       " 'vitamin-k_100g',\n",
       " 'vitamin-c_100g',\n",
       " 'vitamin-b1_100g',\n",
       " 'vitamin-b2_100g',\n",
       " 'vitamin-pp_100g',\n",
       " 'vitamin-b6_100g',\n",
       " 'vitamin-b9_100g',\n",
       " 'folates_100g',\n",
       " 'vitamin-b12_100g',\n",
       " 'biotin_100g',\n",
       " 'pantothenic-acid_100g',\n",
       " 'silica_100g',\n",
       " 'bicarbonate_100g',\n",
       " 'potassium_100g',\n",
       " 'chloride_100g',\n",
       " 'calcium_100g',\n",
       " 'phosphorus_100g',\n",
       " 'iron_100g',\n",
       " 'magnesium_100g',\n",
       " 'zinc_100g',\n",
       " 'copper_100g',\n",
       " 'manganese_100g',\n",
       " 'fluoride_100g',\n",
       " 'selenium_100g',\n",
       " 'chromium_100g',\n",
       " 'molybdenum_100g',\n",
       " 'iodine_100g',\n",
       " 'caffeine_100g',\n",
       " 'taurine_100g',\n",
       " 'ph_100g',\n",
       " 'fruits-vegetables-nuts_100g',\n",
       " 'fruits-vegetables-nuts-estimate_100g',\n",
       " 'collagen-meat-protein-ratio_100g',\n",
       " 'cocoa_100g',\n",
       " 'carbon-footprint_100g',\n",
       " 'nutrition-score-fr_100g',\n",
       " 'nutrition-score-uk_100g']"
      ]
     },
     "execution_count": 9,
     "metadata": {},
     "output_type": "execute_result"
    }
   ],
   "source": [
    "list(df.columns)"
   ]
  },
  {
   "cell_type": "code",
   "execution_count": 10,
   "metadata": {},
   "outputs": [],
   "source": [
    "#i don't keep metadata\n",
    "df = df.drop(\n",
    "    columns=['code', 'creator', 'created_t', 'created_datetime', 'last_modified_t', 'last_modified_datetime'])"
   ]
  },
  {
   "cell_type": "code",
   "execution_count": 11,
   "metadata": {},
   "outputs": [
    {
     "data": {
      "text/plain": [
       "(100000, 139)"
      ]
     },
     "execution_count": 11,
     "metadata": {},
     "output_type": "execute_result"
    }
   ],
   "source": [
    "df.shape"
   ]
  },
  {
   "cell_type": "code",
   "execution_count": 12,
   "metadata": {},
   "outputs": [],
   "source": [
    "# I keep only french values\n",
    "df[\"countries\"] = df[\"countries\"].apply(\n",
    "    lambda x: \"France\" if re.match(r\".(fr).\", str(x), re.IGNORECASE) else x)\n",
    "df = df.loc[df.countries == \"France\"]"
   ]
  },
  {
   "cell_type": "code",
   "execution_count": 13,
   "metadata": {},
   "outputs": [
    {
     "data": {
      "text/plain": [
       "(30046, 139)"
      ]
     },
     "execution_count": 13,
     "metadata": {},
     "output_type": "execute_result"
    }
   ],
   "source": [
    "df.shape"
   ]
  },
  {
   "cell_type": "code",
   "execution_count": 14,
   "metadata": {},
   "outputs": [
    {
     "data": {
      "text/plain": [
       "array(['France'], dtype=object)"
      ]
     },
     "execution_count": 14,
     "metadata": {},
     "output_type": "execute_result"
    }
   ],
   "source": [
    "df.countries.unique()"
   ]
  },
  {
   "cell_type": "code",
   "execution_count": 15,
   "metadata": {},
   "outputs": [
    {
     "data": {
      "text/plain": [
       "Index(['product_name', 'generic_name', 'brands', 'categories',\n",
       "       'nutrition_grade_fr', 'energy_100g', 'energy-from-fat_100g', 'fat_100g',\n",
       "       'saturated-fat_100g', 'carbohydrates_100g', 'sugars_100g',\n",
       "       '-sucrose_100g', '-glucose_100g', '-fructose_100g', '-lactose_100g',\n",
       "       '-maltose_100g', '-maltodextrins_100g', 'fiber_100g', 'proteins_100g',\n",
       "       'salt_100g', 'sodium_100g', 'fruits-vegetables-nuts_100g',\n",
       "       'nutrition-score-fr_100g', 'nutrition-score-uk_100g'],\n",
       "      dtype='object')"
      ]
     },
     "execution_count": 15,
     "metadata": {},
     "output_type": "execute_result"
    }
   ],
   "source": [
    "#i decide to keep only the usefull columns to calcul nutri-score\n",
    "df_nutri_score = df[\n",
    "    [ 'product_name', \n",
    "    'generic_name', \n",
    "    'brands',\n",
    "    'categories',\n",
    "    'nutrition_grade_fr', \n",
    "    'energy_100g', \n",
    "    'energy-from-fat_100g', \n",
    "    'fat_100g', \n",
    "    'saturated-fat_100g', \n",
    "    'carbohydrates_100g', \n",
    "    'sugars_100g', \n",
    "    '-sucrose_100g', \n",
    "    '-glucose_100g', \n",
    "    '-fructose_100g', \n",
    "    '-lactose_100g', \n",
    "    '-maltose_100g', \n",
    "    '-maltodextrins_100g', \n",
    "    'fiber_100g', \n",
    "    'proteins_100g', \n",
    "    'salt_100g', \n",
    "    'sodium_100g', \n",
    "    'fruits-vegetables-nuts_100g', \n",
    "    'nutrition-score-fr_100g', \n",
    "    'nutrition-score-uk_100g' ]]\n",
    "\n",
    "#i don't keep countries columns because there is only french values\n",
    "\n",
    "df_nutri_score.columns"
   ]
  },
  {
   "cell_type": "code",
   "execution_count": 16,
   "metadata": {},
   "outputs": [
    {
     "data": {
      "text/plain": [
       "(30046, 24)"
      ]
     },
     "execution_count": 16,
     "metadata": {},
     "output_type": "execute_result"
    }
   ],
   "source": [
    "df_nutri_score.shape"
   ]
  },
  {
   "cell_type": "code",
   "execution_count": 17,
   "metadata": {},
   "outputs": [],
   "source": [
    "#I verify types of data"
   ]
  },
  {
   "cell_type": "code",
   "execution_count": 18,
   "metadata": {},
   "outputs": [
    {
     "data": {
      "text/plain": [
       "product_name                    object\n",
       "generic_name                    object\n",
       "brands                          object\n",
       "categories                      object\n",
       "nutrition_grade_fr              object\n",
       "energy_100g                    float64\n",
       "energy-from-fat_100g           float64\n",
       "fat_100g                       float64\n",
       "saturated-fat_100g             float64\n",
       "carbohydrates_100g             float64\n",
       "sugars_100g                    float64\n",
       "-sucrose_100g                  float64\n",
       "-glucose_100g                  float64\n",
       "-fructose_100g                 float64\n",
       "-lactose_100g                  float64\n",
       "-maltose_100g                  float64\n",
       "-maltodextrins_100g            float64\n",
       "fiber_100g                     float64\n",
       "proteins_100g                  float64\n",
       "salt_100g                      float64\n",
       "sodium_100g                    float64\n",
       "fruits-vegetables-nuts_100g    float64\n",
       "nutrition-score-fr_100g        float64\n",
       "nutrition-score-uk_100g        float64\n",
       "dtype: object"
      ]
     },
     "execution_count": 18,
     "metadata": {},
     "output_type": "execute_result"
    }
   ],
   "source": [
    "df_nutri_score.dtypes"
   ]
  },
  {
   "cell_type": "code",
   "execution_count": 19,
   "metadata": {
    "scrolled": false
   },
   "outputs": [
    {
     "data": {
      "image/png": "[encoded data removed]",
      "text/plain": [
       "<Figure size 1728x720 with 3 Axes>"
      ]
     },
     "metadata": {
      "needs_background": "light"
     },
     "output_type": "display_data"
    }
   ],
   "source": [
    "#I look at how many null values rest\n",
    "\n",
    "msno.bar(df_nutri_score);\n",
    "plt.title(\"visualization of nullity by column\");\n"
   ]
  },
  {
   "cell_type": "code",
   "execution_count": 20,
   "metadata": {},
   "outputs": [
    {
     "name": "stdout",
     "output_type": "stream",
     "text": [
      "product_name                    1.038408\n",
      "generic_name                   63.040005\n",
      "brands                          1.687413\n",
      "categories                     32.044199\n",
      "nutrition_grade_fr             17.842641\n",
      "energy_100g                    14.890501\n",
      "energy-from-fat_100g           99.986687\n",
      "fat_100g                       29.371630\n",
      "saturated-fat_100g             16.597883\n",
      "carbohydrates_100g             29.681156\n",
      "sugars_100g                    16.537975\n",
      "-sucrose_100g                  99.983359\n",
      "-glucose_100g                  99.993344\n",
      "-fructose_100g                 99.980031\n",
      "-lactose_100g                  99.880184\n",
      "-maltose_100g                  99.990015\n",
      "-maltodextrins_100g            99.990015\n",
      "fiber_100g                     43.266991\n",
      "proteins_100g                  15.130134\n",
      "salt_100g                      16.471411\n",
      "sodium_100g                    16.474739\n",
      "fruits-vegetables-nuts_100g    97.047860\n",
      "nutrition-score-fr_100g        17.842641\n",
      "nutrition-score-uk_100g        17.842641\n",
      "dtype: float64\n"
     ]
    },
    {
     "data": {
      "text/plain": [
       "(30046, 24)"
      ]
     },
     "execution_count": 20,
     "metadata": {},
     "output_type": "execute_result"
    }
   ],
   "source": [
    "percentage_per_column_missing_value = (df_nutri_score.isnull().sum() * 100) / len(df_nutri_score)\n",
    "print(percentage_per_column_missing_value)\n",
    "df_nutri_score.shape"
   ]
  },
  {
   "cell_type": "markdown",
   "metadata": {},
   "source": [
    "je supprime toutes les colonnes ayant plus de 90% de valeurs manquantes sauf 'fruits-vegetables-nuts_100g'"
   ]
  },
  {
   "cell_type": "code",
   "execution_count": 21,
   "metadata": {},
   "outputs": [
    {
     "data": {
      "text/plain": [
       "(30046, 17)"
      ]
     },
     "execution_count": 21,
     "metadata": {},
     "output_type": "execute_result"
    }
   ],
   "source": [
    "df_inter = df_nutri_score.drop(columns=['energy-from-fat_100g', '-maltodextrins_100g','-sucrose_100g', '-glucose_100g', '-fructose_100g', '-lactose_100g', '-maltose_100g'])\n",
    "df_inter.shape"
   ]
  },
  {
   "cell_type": "code",
   "execution_count": 22,
   "metadata": {},
   "outputs": [
    {
     "name": "stdout",
     "output_type": "stream",
     "text": [
      "(29734, 17)\n"
     ]
    }
   ],
   "source": [
    "# rows without name don't have to be\n",
    "df2 = df_inter[df_inter['product_name'].notna()]\n",
    "print(df2.shape)"
   ]
  },
  {
   "cell_type": "code",
   "execution_count": 23,
   "metadata": {},
   "outputs": [],
   "source": [
    "df2.to_csv(\"../data/02_intermediate/intermediate.csv\", index=False)"
   ]
  }
 ],
 "metadata": {
  "kernelspec": {
   "display_name": "Python 3",
   "language": "python",
   "name": "python3"
  },
  "language_info": {
   "codemirror_mode": {
    "name": "ipython",
    "version": 3
   },
   "file_extension": ".py",
   "mimetype": "text/x-python",
   "name": "python",
   "nbconvert_exporter": "python",
   "pygments_lexer": "ipython3",
   "version": "3.8.5"
  }
 },
 "nbformat": 4,
 "nbformat_minor": 4
}
